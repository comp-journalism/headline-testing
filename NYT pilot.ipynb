{
 "cells": [
  {
   "cell_type": "code",
   "execution_count": 4,
   "metadata": {},
   "outputs": [],
   "source": [
    "import datetime\n",
    "import time\n",
    "import requests"
   ]
  },
  {
   "cell_type": "markdown",
   "metadata": {},
   "source": [
    "# Archive.org crawling"
   ]
  },
  {
   "cell_type": "code",
   "execution_count": 20,
   "metadata": {},
   "outputs": [],
   "source": [
    "#https://stackoverflow.com/questions/28154066/how-to-convert-datetime-to-integer-in-python\n",
    "def to_integer(dt_time):\n",
    "    return 10000*dt_time.year + 100*dt_time.month + dt_time.day"
   ]
  },
  {
   "cell_type": "code",
   "execution_count": 21,
   "metadata": {},
   "outputs": [],
   "source": [
    "#https://stackoverflow.com/questions/993358/creating-a-range-of-dates-in-python\n",
    "start = datetime.datetime(2017, 12, 30)\n",
    "dates = [start - datetime.timedelta(days=x) for x in range(0, 1500)]"
   ]
  },
  {
   "cell_type": "code",
   "execution_count": 22,
   "metadata": {},
   "outputs": [],
   "source": [
    "intdates = [to_integer(date) for date in dates]"
   ]
  },
  {
   "cell_type": "code",
   "execution_count": null,
   "metadata": {},
   "outputs": [],
   "source": [
    "not_testing = []\n",
    "for i in intdates:\n",
    "    r = requests.get('http://archive.org/wayback/available?url=nytimes.com&timestamp={}'.format(str(i)))\n",
    "    arc = r.json()['archived_snapshots']['closest']['url']\n",
    "    r2 = requests.get(arc)\n",
    "    if 'optimizely.com' not in r2.text:\n",
    "        print(arc)\n",
    "        not_testing.append(arc)\n",
    "    else:\n",
    "        print(i)\n",
    "        time.sleep(2)"
   ]
  },
  {
   "cell_type": "code",
   "execution_count": null,
   "metadata": {},
   "outputs": [],
   "source": [
    "#http://web.archive.org/web/20150805230843/http://www.nytimes.com:80/"
   ]
  },
  {
   "cell_type": "markdown",
   "metadata": {},
   "source": [
    "# NYT headlines"
   ]
  },
  {
   "cell_type": "markdown",
   "metadata": {},
   "source": [
    "Format: http://api.nytimes.com/svc/archive/v1/{year}/{month}.json?api-key={your-api-key}"
   ]
  },
  {
   "cell_type": "code",
   "execution_count": 29,
   "metadata": {},
   "outputs": [],
   "source": [
    "key = %env KEY\n",
    "\n",
    "def query_range(startmo, startyr, endmo, endyr):\n",
    "    startmos = [[i, startyr] for i in range(startmo, 13)]\n",
    "    middle = [[j, i] for i in range(startyr, endyr+1) if i != startyr and i != endyr for j in range(1, 13)]\n",
    "    endmos = [[i, endyr] for i in range(1, endmo+1)]\n",
    "    allmos = [i for sub in [startmos, middle, endmos] for i in sub]\n",
    "    return allmos\n",
    "\n",
    "def cleaning(entry):\n",
    "    key_list = ['web_url', 'headline', 'keywords', 'pub_date', 'document_type', 'new_desk', 'word_count']\n",
    "    filtered = {new_key: entry[new_key] for new_key in key_list}\n",
    "    try:\n",
    "        filtered['print_headline'] = filtered['headline']['print_headline']\n",
    "    except Exception:\n",
    "        pass\n",
    "    filtered['headline'] = filtered['headline']['main']\n",
    "    for idx, i in enumerate(filtered['keywords']):\n",
    "        filtered['keyword{}'.format(idx)] = i\n",
    "    filtered.pop('keywords', None)\n",
    "    return filtered"
   ]
  },
  {
   "cell_type": "code",
   "execution_count": null,
   "metadata": {},
   "outputs": [],
   "source": [
    "morange = query_range(5, 2012, 9, 2018)\n",
    "\n",
    "for i in morange:\n",
    "    h = requests.get('http://api.nytimes.com/svc/archive/v1/{}/{}.json?api-key={}'.format(i[1], i[0], key))\n",
    "    items = h.json()['response']['docs']\n",
    "    cleaned = [cleaning(i) for i in items]"
   ]
  },
  {
   "cell_type": "code",
   "execution_count": 37,
   "metadata": {},
   "outputs": [
    {
     "data": {
      "text/plain": [
       "dict_keys(['web_url', 'snippet', 'lead_paragraph', 'abstract', 'print_page', 'blog', 'source', 'multimedia', 'headline', 'keywords', 'pub_date', 'document_type', 'news_desk', 'section_name', 'subsection_name', 'byline', 'type_of_material', '_id', 'word_count', 'slideshow_credits'])"
      ]
     },
     "execution_count": 37,
     "metadata": {},
     "output_type": "execute_result"
    }
   ],
   "source": [
    "h = requests.get('http://api.nytimes.com/svc/archive/v1/{}/{}.json?api-key={}'.format(2015, 1, key))\n",
    "items = h.json()['response']['docs']\n",
    "items[1].keys()"
   ]
  },
  {
   "cell_type": "code",
   "execution_count": 35,
   "metadata": {},
   "outputs": [
    {
     "data": {
      "text/plain": [
       "dict_keys(['web_url', 'snippet', 'print_page', 'blog', 'source', 'multimedia', 'headline', 'keywords', 'pub_date', 'document_type', 'new_desk', 'byline', 'type_of_material', '_id', 'word_count', 'score', 'uri'])"
      ]
     },
     "execution_count": 35,
     "metadata": {},
     "output_type": "execute_result"
    }
   ],
   "source": [
    "items[10].keys()"
   ]
  },
  {
   "cell_type": "code",
   "execution_count": null,
   "metadata": {},
   "outputs": [],
   "source": []
  }
 ],
 "metadata": {
  "kernelspec": {
   "display_name": "Python [conda env:abquant]",
   "language": "python",
   "name": "conda-env-abquant-py"
  },
  "language_info": {
   "codemirror_mode": {
    "name": "ipython",
    "version": 3
   },
   "file_extension": ".py",
   "mimetype": "text/x-python",
   "name": "python",
   "nbconvert_exporter": "python",
   "pygments_lexer": "ipython3",
   "version": "3.7.0"
  }
 },
 "nbformat": 4,
 "nbformat_minor": 2
}
