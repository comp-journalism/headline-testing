{
 "cells": [
  {
   "cell_type": "code",
   "execution_count": 2,
   "metadata": {},
   "outputs": [],
   "source": [
    "import datetime\n",
    "import time\n",
    "import requests\n",
    "import pandas as pd\n",
    "import spacy\n",
    "from sqlalchemy import create_engine\n",
    "\n",
    "nlp = spacy.load('en_core_web_sm')"
   ]
  },
  {
   "cell_type": "markdown",
   "metadata": {},
   "source": [
    "# Archive.org crawling"
   ]
  },
  {
   "cell_type": "code",
   "execution_count": null,
   "metadata": {},
   "outputs": [],
   "source": [
    "#https://stackoverflow.com/questions/28154066/how-to-convert-datetime-to-integer-in-python\n",
    "def to_integer(dt_time):\n",
    "    '''Encode date as monthyear integer, to match archive.org timestamp format'''\n",
    "    return 10000*dt_time.year + 100*dt_time.month + dt_time.day"
   ]
  },
  {
   "cell_type": "code",
   "execution_count": null,
   "metadata": {},
   "outputs": [],
   "source": [
    "#https://stackoverflow.com/questions/993358/creating-a-range-of-dates-in-python\n",
    "#Build date range of 1500 days back from 12/30/2017\n",
    "start = datetime.datetime(2017, 12, 30)\n",
    "dates = [start - datetime.timedelta(days=x) for x in range(0, 1500)]"
   ]
  },
  {
   "cell_type": "code",
   "execution_count": null,
   "metadata": {},
   "outputs": [],
   "source": [
    "#Convert to integer encoding\n",
    "intdates = [to_integer(date) for date in dates]"
   ]
  },
  {
   "cell_type": "code",
   "execution_count": null,
   "metadata": {},
   "outputs": [],
   "source": [
    "#Capture the point at which A/B testing started\n",
    "not_testing = []\n",
    "for i in intdates:\n",
    "    #Get a snapshot for a given day\n",
    "    r = requests.get('http://archive.org/wayback/available?url=nytimes.com&timestamp={}'.format(str(i)))\n",
    "    #Pull the URL for that snapshot from the metadata the API gives us\n",
    "    arc = r.json()['archived_snapshots']['closest']['url']\n",
    "    #Scrape the HTML of the snapshot\n",
    "    r2 = requests.get(arc)\n",
    "    #Check if the Optimizely script is present. If it is, wait and go to the next day. If not, add it to the list.\n",
    "    if 'optimizely.com' not in r2.text:\n",
    "        print(arc)\n",
    "        not_testing.append(arc)\n",
    "    else:\n",
    "        print(i)\n",
    "        time.sleep(2)"
   ]
  },
  {
   "cell_type": "markdown",
   "metadata": {},
   "source": [
    "I'm looking for the point where a bunch of URLs show up in the `not_testing` list in a row, then calling the day after the latest date in that run the start point for testing. The latest URL in this run was `http://web.archive.org/web/20150805230843/http://www.nytimes.com:80/`, so testing would have started on August 6, 2015."
   ]
  },
  {
   "cell_type": "markdown",
   "metadata": {},
   "source": [
    "# NYT headlines"
   ]
  },
  {
   "cell_type": "markdown",
   "metadata": {},
   "source": [
    "I'm using the NYT archive API to pull headline data by month. Format: `http://api.nytimes.com/svc/archive/v1/{year}/{month}.json?api-key={your-api-key}`"
   ]
  },
  {
   "cell_type": "code",
   "execution_count": null,
   "metadata": {},
   "outputs": [],
   "source": [
    "key = %env KEY\n",
    "\n",
    "def query_range(startmo, startyr, endmo, endyr):\n",
    "    '''Build a range of [month, year] pairs to use for querying the archive API'''\n",
    "    startmos = [[i, startyr] for i in range(startmo, 13)]\n",
    "    middle = [[j, i] for i in range(startyr, endyr+1) if i != startyr and i != endyr for j in range(1, 13)]\n",
    "    endmos = [[i, endyr] for i in range(1, endmo+1)]\n",
    "    allmos = [i for sub in [startmos, middle, endmos] for i in sub]\n",
    "    return allmos\n",
    "\n",
    "def cleaning(entry):\n",
    "    '''Clean the response of the archive API so that data can be uniformly written into a PostgreSQL table'''\n",
    "    #Check for a print headline\n",
    "    try:\n",
    "        entry['print_headline'] = entry['headline']['print_headline']\n",
    "    except Exception:\n",
    "        pass\n",
    "    #Check for a headline\n",
    "    try:\n",
    "        entry['headline'] = entry['headline']['main']\n",
    "    except Exception:\n",
    "        entry['headline'] = str(entry['headline'])\n",
    "    #Check for a byline object\n",
    "    try:\n",
    "        entry['byline'] = str(entry['byline'])\n",
    "    except Exception:\n",
    "        entry['byline'] = ''\n",
    "    #Turn keywords - returned as a list of objects - into a comma-separated string\n",
    "    entry['keywords'] = ','.join(i['value'] for i in entry['keywords'])\n",
    "    #Resolve change over time from 'news_desk' to 'new_desk'\n",
    "    if 'new_desk' in entry:\n",
    "        entry['news_desk'] = entry['new_desk']\n",
    "        entry.pop('new_desk', None)\n",
    "    #Remove multimedia metadata\n",
    "    entry.pop('multimedia', None)\n",
    "    #Remove largely empty blog field\n",
    "    entry.pop('blog', None)\n",
    "    #Remove score - unclear purpose\n",
    "    entry.pop('score', None)\n",
    "    #Remove inconsistently applied URI\n",
    "    entry.pop('uri', None)\n",
    "    return entry"
   ]
  },
  {
   "cell_type": "code",
   "execution_count": null,
   "metadata": {},
   "outputs": [],
   "source": [
    "#Database configuration\n",
    "user = %env USER\n",
    "password = %env PASSWORD\n",
    "db = %env DATABASE\n",
    "engine = create_engine('postgresql://{}:{}@localhost:5432/{}'.format(user, password, db))"
   ]
  },
  {
   "cell_type": "code",
   "execution_count": null,
   "metadata": {},
   "outputs": [],
   "source": [
    "#Generate range of months from mid-2012 to last month\n",
    "morange = query_range(5, 2012, 9, 2018)\n",
    "\n",
    "for i in morange:\n",
    "    #Keep track of current month\n",
    "    print(i)\n",
    "    #Query archive API for current month\n",
    "    h = requests.get('http://api.nytimes.com/svc/archive/v1/{}/{}.json?api-key={}'.format(i[1], i[0], key))\n",
    "    #Clean results\n",
    "    items = h.json()['response']['docs']\n",
    "    cleaned = [cleaning(i) for i in items]\n",
    "    #Convert results to DataFrame\n",
    "    cdf = pd.DataFrame(cleaned)\n",
    "    #Write DataFrame to PostgreSQL table\n",
    "    cdf.to_sql('results', engine, if_exists = 'append')"
   ]
  },
  {
   "cell_type": "markdown",
   "metadata": {},
   "source": [
    "# Generating variables"
   ]
  },
  {
   "cell_type": "code",
   "execution_count": 4,
   "metadata": {},
   "outputs": [
    {
     "name": "stderr",
     "output_type": "stream",
     "text": [
      "/Users/nicholashagar/anaconda/envs/abquant/lib/python3.7/site-packages/psycopg2/__init__.py:144: UserWarning: The psycopg2 wheel package will be renamed from release 2.8; in order to keep installing from binary please use \"pip install psycopg2-binary\" instead. For details see: <http://initd.org/psycopg/docs/install.html#binary-install-from-pypi>.\n",
      "  \"\"\")\n"
     ]
    }
   ],
   "source": [
    "#https://github.com/pandas-dev/pandas/issues/12265#issuecomment-181838631\n",
    "#Database configuration\n",
    "\n",
    "\n",
    "user = %env USER\n",
    "password = %env PASSWORD\n",
    "db = %env DATABASE\n",
    "engine = create_engine('postgresql://{}:{}@localhost:5432/{}'.format(user, password, db), execution_options=dict(stream_results=True))"
   ]
  },
  {
   "cell_type": "code",
   "execution_count": 5,
   "metadata": {},
   "outputs": [],
   "source": [
    "#Get sample of data\n",
    "for table in pd.read_sql_query('SELECT * FROM results', engine, chunksize=1000):\n",
    "    test = table\n",
    "    break"
   ]
  },
  {
   "cell_type": "code",
   "execution_count": null,
   "metadata": {},
   "outputs": [],
   "source": [
    "#H1: Count quotation marks\n",
    "test['headline'].str.count('\\'|\"')"
   ]
  },
  {
   "cell_type": "code",
   "execution_count": null,
   "metadata": {
    "scrolled": true
   },
   "outputs": [],
   "source": [
    "#H2a: Count of numbers\n",
    "test['headline'].str.count('[0-9]+(,[0-9]+)*')"
   ]
  },
  {
   "cell_type": "code",
   "execution_count": null,
   "metadata": {},
   "outputs": [],
   "source": [
    "#H2b: Count of numbers starting headlines\n",
    "test['headline'].str.split(' ').map(lambda x: x[0]).str.count('[0-9]+')"
   ]
  },
  {
   "cell_type": "code",
   "execution_count": null,
   "metadata": {
    "scrolled": true
   },
   "outputs": [],
   "source": [
    "#H3a: Count of interrogatives (WP, WRB) https://www.ling.upenn.edu/courses/Fall_2003/ling001/penn_treebank_pos.html\n",
    "test['headline'].map(lambda x: nlp(x)).map(lambda x: [i.tag_ for i in x]).map(lambda x: x.count('WP') + x.count('WRB'))"
   ]
  },
  {
   "cell_type": "code",
   "execution_count": null,
   "metadata": {},
   "outputs": [],
   "source": [
    "#H3b: Count of interrogatives starting headlines\n",
    "test['headline'].map(lambda x: nlp(x)).map(lambda x: [i.tag_ for i in x][0]).str.count('WP|WRB')"
   ]
  },
  {
   "cell_type": "code",
   "execution_count": null,
   "metadata": {},
   "outputs": [],
   "source": [
    "#H4: Count of effective social media phrases https://buzzsumo.com/blog/most-shared-headlines-study/#gs.E5zXvW8\n",
    "phrases = ['will make you', \n",
    "           'this is why', \n",
    "           'can we guess', \n",
    "           'only [0-9]+ in',\n",
    "           'the reason is',\n",
    "           'are freaking out',\n",
    "           '[0-9]+ stunning photos',\n",
    "           'tears of joy',\n",
    "           'is what happens',\n",
    "           'make you cry',\n",
    "           'give you goosebumps',\n",
    "           'talking about it',\n",
    "           'is too cute',\n",
    "           'shocked to see',\n",
    "           'melt your heart',\n",
    "           '[0-9]+ things only',\n",
    "           'can\\'t stop laughing',\n",
    "           'top [0-9]+ songs',\n",
    "           'twitter reacts to',\n",
    "           'what happened next']\n",
    "pattern = '|'.join(phrases)\n",
    "\n",
    "test['headline'].str.contains(pattern, case = False)"
   ]
  },
  {
   "cell_type": "code",
   "execution_count": null,
   "metadata": {},
   "outputs": [],
   "source": [
    "#H6: Average word length\n",
    "test['headline'].str.split(' ').map(lambda x: sum([len(i) for i in x])/len(x))"
   ]
  },
  {
   "cell_type": "code",
   "execution_count": null,
   "metadata": {},
   "outputs": [],
   "source": [
    "#H7a: Count of personal/possessive nouns (PRP, PRP$) https://www.ling.upenn.edu/courses/Fall_2003/ling001/penn_treebank_pos.html\n",
    "test['headline'].map(lambda x: nlp(x)).map(lambda x: [i.tag_ for i in x]).map(lambda x: x.count('PRP') + x.count('PRP$'))"
   ]
  },
  {
   "cell_type": "code",
   "execution_count": null,
   "metadata": {},
   "outputs": [],
   "source": [
    "#H7b: Count of personal/possessive nouns starting headlines\n",
    "test['headline'].map(lambda x: nlp(x)).map(lambda x: [i.tag_ for i in x][0]).str.count('PRP|PRP$')"
   ]
  },
  {
   "cell_type": "code",
   "execution_count": 13,
   "metadata": {},
   "outputs": [
    {
     "data": {
      "text/plain": [
       "0      10\n",
       "1       8\n",
       "2       5\n",
       "3       8\n",
       "4       7\n",
       "5       6\n",
       "6       7\n",
       "7      13\n",
       "8       5\n",
       "9       8\n",
       "10      3\n",
       "11      6\n",
       "12      9\n",
       "13      7\n",
       "14      5\n",
       "15      6\n",
       "16      9\n",
       "17      6\n",
       "18      7\n",
       "19     12\n",
       "20      8\n",
       "21      5\n",
       "22      8\n",
       "23      5\n",
       "24      6\n",
       "25      6\n",
       "26      6\n",
       "27     11\n",
       "28      7\n",
       "29      7\n",
       "       ..\n",
       "970     3\n",
       "971     5\n",
       "972     6\n",
       "973     5\n",
       "974     4\n",
       "975     6\n",
       "976     4\n",
       "977     7\n",
       "978     7\n",
       "979     9\n",
       "980     8\n",
       "981     4\n",
       "982     9\n",
       "983     3\n",
       "984     4\n",
       "985     7\n",
       "986     9\n",
       "987     4\n",
       "988     7\n",
       "989     6\n",
       "990     3\n",
       "991     6\n",
       "992     7\n",
       "993     3\n",
       "994     3\n",
       "995     2\n",
       "996     5\n",
       "997     5\n",
       "998     3\n",
       "999     3\n",
       "Name: headline, Length: 1000, dtype: int64"
      ]
     },
     "execution_count": 13,
     "metadata": {},
     "output_type": "execute_result"
    }
   ],
   "source": [
    "#Word count\n",
    "test['headline'].map(lambda x: len(x.split(' ')))"
   ]
  },
  {
   "cell_type": "code",
   "execution_count": 14,
   "metadata": {},
   "outputs": [
    {
     "data": {
      "text/plain": [
       "0      67\n",
       "1      54\n",
       "2      33\n",
       "3      37\n",
       "4      47\n",
       "5      31\n",
       "6      42\n",
       "7      72\n",
       "8      37\n",
       "9      53\n",
       "10     25\n",
       "11     35\n",
       "12     55\n",
       "13     39\n",
       "14     31\n",
       "15     34\n",
       "16     60\n",
       "17     40\n",
       "18     36\n",
       "19     54\n",
       "20     59\n",
       "21     36\n",
       "22     45\n",
       "23     34\n",
       "24     36\n",
       "25     37\n",
       "26     37\n",
       "27     76\n",
       "28     35\n",
       "29     24\n",
       "       ..\n",
       "970    22\n",
       "971    35\n",
       "972    33\n",
       "973    33\n",
       "974    22\n",
       "975    40\n",
       "976    10\n",
       "977    37\n",
       "978    41\n",
       "979    42\n",
       "980    43\n",
       "981    19\n",
       "982    45\n",
       "983    17\n",
       "984    27\n",
       "985    37\n",
       "986    48\n",
       "987    22\n",
       "988    28\n",
       "989    39\n",
       "990    19\n",
       "991    32\n",
       "992    30\n",
       "993    17\n",
       "994    25\n",
       "995    11\n",
       "996    24\n",
       "997    22\n",
       "998    20\n",
       "999    17\n",
       "Name: headline, Length: 1000, dtype: int64"
      ]
     },
     "execution_count": 14,
     "metadata": {},
     "output_type": "execute_result"
    }
   ],
   "source": [
    "#Character count\n",
    "test['headline'].map(lambda x: len(x))"
   ]
  },
  {
   "cell_type": "markdown",
   "metadata": {},
   "source": [
    "## Follow up"
   ]
  },
  {
   "cell_type": "code",
   "execution_count": 63,
   "metadata": {
    "scrolled": true
   },
   "outputs": [
    {
     "data": {
      "text/plain": [
       "0      1\n",
       "1      0\n",
       "2      2\n",
       "3      2\n",
       "4      1\n",
       "5      2\n",
       "6      0\n",
       "7      0\n",
       "8      0\n",
       "9      2\n",
       "10     1\n",
       "11     0\n",
       "12     0\n",
       "13     2\n",
       "14     0\n",
       "15     1\n",
       "16     1\n",
       "17     1\n",
       "18     0\n",
       "19     1\n",
       "20     2\n",
       "21     0\n",
       "22     1\n",
       "23     0\n",
       "24     2\n",
       "25     1\n",
       "26     1\n",
       "27     0\n",
       "28     0\n",
       "29     3\n",
       "      ..\n",
       "970    2\n",
       "971    2\n",
       "972    1\n",
       "973    0\n",
       "974    2\n",
       "975    2\n",
       "976    1\n",
       "977    1\n",
       "978    0\n",
       "979    2\n",
       "980    2\n",
       "981    1\n",
       "982    0\n",
       "983    0\n",
       "984    2\n",
       "985    1\n",
       "986    1\n",
       "987    1\n",
       "988    1\n",
       "989    1\n",
       "990    1\n",
       "991    1\n",
       "992    0\n",
       "993    2\n",
       "994    2\n",
       "995    1\n",
       "996    1\n",
       "997    2\n",
       "998    1\n",
       "999    2\n",
       "Name: headline, Length: 1000, dtype: int64"
      ]
     },
     "execution_count": 63,
     "metadata": {},
     "output_type": "execute_result"
    }
   ],
   "source": [
    "#H8: Count of uncommon words\n",
    "'''List of popular words taken from https://github.com/dolph/dictionary/blob/master/popular.txt\n",
    "Disregards cardinal numbers (CD), foreign words (FW), possessive endings (POS), and symbols (SYM/$)'''\n",
    "#This approach doesn't work very well. Entity analysis?\n",
    "words = open('popular.txt').read().splitlines()\n",
    "test['headline'].map(lambda x: nlp(x)) \\\n",
    "    .map(lambda x: [i for i in x if i.tag_ not in ['CD', 'FW', 'POS', 'SYM', '$', '``', ',', ':', 'HYPH', '.']]) \\\n",
    "    .map(lambda x: sum([1 if i.text in words else 0 for i in x]))"
   ]
  },
  {
   "cell_type": "code",
   "execution_count": null,
   "metadata": {},
   "outputs": [],
   "source": [
    "#H9: Count of proper nouns (NNP and NNPS) https://www.ling.upenn.edu/courses/Fall_2003/ling001/penn_treebank_pos.html\n",
    "#Entity analysis?\n",
    "test['headline'].map(lambda x: nlp(x)).map(lambda x: [i.tag_ for i in x]).map(lambda x: x.count('NNP') + x.count('NNPS'))"
   ]
  },
  {
   "cell_type": "code",
   "execution_count": null,
   "metadata": {},
   "outputs": [],
   "source": [
    "#H10: Count of active verbs\n"
   ]
  },
  {
   "cell_type": "code",
   "execution_count": null,
   "metadata": {},
   "outputs": [],
   "source": [
    "#H5: Emotional intensity\n"
   ]
  }
 ],
 "metadata": {
  "kernelspec": {
   "display_name": "Python [conda env:abquant]",
   "language": "python",
   "name": "conda-env-abquant-py"
  },
  "language_info": {
   "codemirror_mode": {
    "name": "ipython",
    "version": 3
   },
   "file_extension": ".py",
   "mimetype": "text/x-python",
   "name": "python",
   "nbconvert_exporter": "python",
   "pygments_lexer": "ipython3",
   "version": "3.7.0"
  }
 },
 "nbformat": 4,
 "nbformat_minor": 2
}
