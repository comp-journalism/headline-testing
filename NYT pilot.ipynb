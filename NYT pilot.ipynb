{
 "cells": [
  {
   "cell_type": "code",
   "execution_count": null,
   "metadata": {},
   "outputs": [],
   "source": [
    "import datetime\n",
    "import re\n",
    "import time\n",
    "import requests\n",
    "import pandas as pd\n",
    "import spacy\n",
    "from sqlalchemy import create_engine\n",
    "from odo import odo\n",
    "\n",
    "nlp = spacy.load('en_core_web_sm', parser=False)"
   ]
  },
  {
   "cell_type": "markdown",
   "metadata": {},
   "source": [
    "# Archive.org crawling"
   ]
  },
  {
   "cell_type": "code",
   "execution_count": null,
   "metadata": {},
   "outputs": [],
   "source": [
    "#https://stackoverflow.com/questions/28154066/how-to-convert-datetime-to-integer-in-python\n",
    "def to_integer(dt_time):\n",
    "    '''Encode date as monthyear integer, to match archive.org timestamp format'''\n",
    "    return 10000*dt_time.year + 100*dt_time.month + dt_time.day"
   ]
  },
  {
   "cell_type": "code",
   "execution_count": null,
   "metadata": {},
   "outputs": [],
   "source": [
    "#https://stackoverflow.com/questions/993358/creating-a-range-of-dates-in-python\n",
    "#Build date range of 1500 days back from 12/30/2017\n",
    "start = datetime.datetime(2017, 12, 30)\n",
    "dates = [start - datetime.timedelta(days=x) for x in range(0, 1500)]"
   ]
  },
  {
   "cell_type": "code",
   "execution_count": null,
   "metadata": {},
   "outputs": [],
   "source": [
    "#Convert to integer encoding\n",
    "intdates = [to_integer(date) for date in dates]"
   ]
  },
  {
   "cell_type": "code",
   "execution_count": null,
   "metadata": {},
   "outputs": [],
   "source": [
    "#Capture the point at which A/B testing started\n",
    "not_testing = []\n",
    "for i in intdates:\n",
    "    #Get a snapshot for a given day\n",
    "    r = requests.get('http://archive.org/wayback/available?url=nytimes.com&timestamp={}'.format(str(i)))\n",
    "    #Pull the URL for that snapshot from the metadata the API gives us\n",
    "    arc = r.json()['archived_snapshots']['closest']['url']\n",
    "    #Scrape the HTML of the snapshot\n",
    "    r2 = requests.get(arc)\n",
    "    #Check if the Optimizely script is present. If it is, wait and go to the next day. If not, add it to the list.\n",
    "    if 'optimizely.com' not in r2.text:\n",
    "        print(arc)\n",
    "        not_testing.append(arc)\n",
    "    else:\n",
    "        print(i)\n",
    "        time.sleep(2)"
   ]
  },
  {
   "cell_type": "markdown",
   "metadata": {},
   "source": [
    "I'm looking for the point where a bunch of URLs show up in the `not_testing` list in a row, then calling the day after the latest date in that run the start point for testing. The latest URL in this run was `http://web.archive.org/web/20150805230843/http://www.nytimes.com:80/`, so testing would have started on August 6, 2015."
   ]
  },
  {
   "cell_type": "markdown",
   "metadata": {},
   "source": [
    "# NYT headlines"
   ]
  },
  {
   "cell_type": "markdown",
   "metadata": {},
   "source": [
    "I'm using the NYT archive API to pull headline data by month. Format: `http://api.nytimes.com/svc/archive/v1/{year}/{month}.json?api-key={your-api-key}`"
   ]
  },
  {
   "cell_type": "code",
   "execution_count": null,
   "metadata": {},
   "outputs": [],
   "source": [
    "key = %env KEY\n",
    "\n",
    "def query_range(startmo, startyr, endmo, endyr):\n",
    "    '''Build a range of [month, year] pairs to use for querying the archive API'''\n",
    "    startmos = [[i, startyr] for i in range(startmo, 13)]\n",
    "    middle = [[j, i] for i in range(startyr, endyr+1) if i != startyr and i != endyr for j in range(1, 13)]\n",
    "    endmos = [[i, endyr] for i in range(1, endmo+1)]\n",
    "    allmos = [i for sub in [startmos, middle, endmos] for i in sub]\n",
    "    return allmos\n",
    "\n",
    "def cleaning(entry):\n",
    "    '''Clean the response of the archive API so that data can be uniformly written into a SQL table'''\n",
    "    #Check for a print headline\n",
    "    try:\n",
    "        entry['print_headline'] = entry['headline']['print_headline']\n",
    "    except Exception:\n",
    "        pass\n",
    "    #Check for a headline\n",
    "    try:\n",
    "        entry['headline'] = entry['headline']['main']\n",
    "    except Exception:\n",
    "        entry['headline'] = str(entry['headline'])\n",
    "    #Check for a byline object\n",
    "    try:\n",
    "        entry['byline'] = str(entry['byline'])\n",
    "    except Exception:\n",
    "        entry['byline'] = ''\n",
    "    #Turn keywords - returned as a list of objects - into a comma-separated string\n",
    "    entry['keywords'] = ','.join(i['value'] for i in entry['keywords'])\n",
    "    #Resolve change over time from 'news_desk' to 'new_desk'\n",
    "    if 'new_desk' in entry:\n",
    "        entry['news_desk'] = entry['new_desk']\n",
    "        entry.pop('new_desk', None)\n",
    "    #Remove multimedia metadata\n",
    "    entry.pop('multimedia', None)\n",
    "    #Remove largely empty blog field\n",
    "    entry.pop('blog', None)\n",
    "    #Remove score - unclear purpose\n",
    "    entry.pop('score', None)\n",
    "    #Remove inconsistently applied URI\n",
    "    entry.pop('uri', None)\n",
    "    return entry"
   ]
  },
  {
   "cell_type": "code",
   "execution_count": null,
   "metadata": {},
   "outputs": [],
   "source": [
    "#Database configuration\n",
    "user = %env USER\n",
    "password = %env PASSWORD\n",
    "db = %env DATABASE\n",
    "host = %env HOST\n",
    "engine = create_engine('mysql://{}:{}@{}:3306/{}'.format(user, password, host, db))"
   ]
  },
  {
   "cell_type": "code",
   "execution_count": null,
   "metadata": {},
   "outputs": [],
   "source": [
    "#Generate range of months from mid-2012 to last month\n",
    "morange = query_range(5, 2012, 9, 2018)\n",
    "\n",
    "for i in morange:\n",
    "    #Keep track of current month\n",
    "    print(i)\n",
    "    #Query archive API for current month\n",
    "    h = requests.get('http://api.nytimes.com/svc/archive/v1/{}/{}.json?api-key={}'.format(i[1], i[0], key))\n",
    "    #Clean results\n",
    "    items = h.json()['response']['docs']\n",
    "    cleaned = [cleaning(i) for i in items]\n",
    "    #Convert results to DataFrame\n",
    "    cdf = pd.DataFrame(cleaned)\n",
    "    #Write DataFrame to PostgreSQL table\n",
    "    cdf.to_sql('results', engine, if_exists='append')"
   ]
  },
  {
   "cell_type": "markdown",
   "metadata": {},
   "source": [
    "# Intermediate processing"
   ]
  },
  {
   "cell_type": "markdown",
   "metadata": {},
   "source": [
    "Running all headlines through Spacy NLP, extracting relevant values and storing in separate table with ID. Saves time of having to redo NLP in the future for new features."
   ]
  },
  {
   "cell_type": "code",
   "execution_count": null,
   "metadata": {},
   "outputs": [],
   "source": [
    "#https://github.com/pandas-dev/pandas/issues/12265#issuecomment-181838631\n",
    "#Database configuration\n",
    "user = %env USER\n",
    "password = %env PASSWORD\n",
    "db = %env DATABASE\n",
    "host = %env HOST\n",
    "\n",
    "df = odo('mysql://{}:{}@{}:3306/{}::results'.format(user, password, host, db), pd.DataFrame)"
   ]
  },
  {
   "cell_type": "code",
   "execution_count": null,
   "metadata": {},
   "outputs": [],
   "source": [
    "def tag_mapping(table):\n",
    "    table = table[table['headline'].str.len() > 0]\n",
    "    nlped = table['headline'].apply(lambda x: nlp(x))\n",
    "    table['tags'] = nlped.apply(lambda x: ' '.join(i.tag_ for i in x))\n",
    "    table['entities'] = nlped.apply(lambda x: ' '.join(i.text for i in x.ents))\n",
    "    table['labels'] = nlped.apply(lambda x: ' '.join(i.label_ for i in x.ents))\n",
    "    dft = table[['_id', 'headline', 'tags', 'entities', 'labels']]\n",
    "    return dft"
   ]
  },
  {
   "cell_type": "code",
   "execution_count": null,
   "metadata": {},
   "outputs": [],
   "source": [
    "dfnlp = tag_mapping(df)"
   ]
  },
  {
   "cell_type": "code",
   "execution_count": null,
   "metadata": {},
   "outputs": [],
   "source": [
    "dfnlp.to_pickle('saveddf.p')"
   ]
  },
  {
   "cell_type": "code",
   "execution_count": null,
   "metadata": {},
   "outputs": [],
   "source": [
    "odo(dfnlp, 'mysql://{}:{}@{}:3306/{}::nlp'.format(user, password, host, db))"
   ]
  },
  {
   "cell_type": "markdown",
   "metadata": {},
   "source": [
    "# Generating features"
   ]
  },
  {
   "cell_type": "code",
   "execution_count": null,
   "metadata": {},
   "outputs": [],
   "source": [
    "#Database variables\n",
    "user = %env USER\n",
    "password = %env PASSWORD\n",
    "db = %env DATABASE\n",
    "host = %env HOST"
   ]
  },
  {
   "cell_type": "code",
   "execution_count": null,
   "metadata": {},
   "outputs": [],
   "source": [
    "#Pipeline for features that don't require external resources \n",
    "#(i.e., everything but entities, parts of speech, and LIWC.)\n",
    "def pipeline(raw):\n",
    "    '''Combined processing for internally-extracted features'''\n",
    "    #Define social media phrase regex\n",
    "    phrases = ['will make you', \n",
    "               'this is why', \n",
    "               'can we guess', \n",
    "               'only [0-9]+ in',\n",
    "               'the reason is',\n",
    "               'are freaking out',\n",
    "               '[0-9]+ stunning photos',\n",
    "               'tears of joy',\n",
    "               'is what happens',\n",
    "               'make you cry',\n",
    "               'give you goosebumps',\n",
    "               'talking about it',\n",
    "               'is too cute',\n",
    "               'shocked to see',\n",
    "               'melt your heart',\n",
    "               '[0-9]+ things only',\n",
    "               'can\\'t stop laughing',\n",
    "               'top [0-9]+ songs',\n",
    "               'twitter reacts to',\n",
    "               'what happened next']\n",
    "    pattern = '|'.join(phrases)\n",
    "    \n",
    "    #Filter out anything that doesn't have a headline\n",
    "    raw = raw[raw['headline'].str.len() > 0]\n",
    "    #Clean quotations\n",
    "    raw['headline'] = raw['headline'].apply(lambda x: re.sub(u'[\\u201c\\u201d]', '\"', x))\n",
    "    raw['headline'] = raw['headline'].apply(lambda x: re.sub(u'[\\u2018\\u2019]', '\\'', x))\n",
    "    #Get headline\n",
    "    hed = raw['headline'].str\n",
    "    #Count quotations\n",
    "    raw['quotes'] = hed.count('\\'|\"')\n",
    "    #Count numbers\n",
    "    raw['numbers'] = hed.count('[0-9]+(,[0-9]+)*')\n",
    "    #Count numbers at the start of a headline\n",
    "    raw['numbers_starting'] = hed.split(' ').map(lambda x: x[0]).str.count('[0-9]+')\n",
    "    #Match social pattern\n",
    "    raw['social_patterns'] = hed.contains(pattern, case = False)\n",
    "    #Calculate average word length\n",
    "    raw['avg_word_length'] = hed.split(' ').map(lambda x: sum([len(i) for i in x])/len(x))\n",
    "    #Get word count\n",
    "    raw['word_count'] = raw['headline'].map(lambda x: len(x.split(' ')))\n",
    "    #Get character count\n",
    "    raw['character_count'] = raw['headline'].map(lambda x: len(x))\n",
    "    return raw"
   ]
  },
  {
   "cell_type": "code",
   "execution_count": null,
   "metadata": {},
   "outputs": [],
   "source": [
    "dfdd = odo('mysql://{}:{}@{}:3306/{}::results-deduped'.format(user, password, host, db), pd.DataFrame)\n",
    "dffeat = pipeline(dfdd)"
   ]
  },
  {
   "cell_type": "code",
   "execution_count": null,
   "metadata": {},
   "outputs": [],
   "source": [
    "features = dffeat[['_id', \n",
    "                   'word_count', \n",
    "                   'quotes', \n",
    "                   'numbers', \n",
    "                   'numbers_starting', \n",
    "                   'social_patterns', \n",
    "                   'avg_word_length', \n",
    "                   'character_count']]\n",
    "odo(features, 'mysql://{}:{}@{}:3306/{}::features'.format(user, password, host, db))"
   ]
  },
  {
   "cell_type": "markdown",
   "metadata": {},
   "source": [
    "## Individual variable definitions"
   ]
  },
  {
   "cell_type": "code",
   "execution_count": null,
   "metadata": {},
   "outputs": [],
   "source": [
    "#H1: Count quotation marks\n",
    "test['headline'].str.count('\\'|\"')"
   ]
  },
  {
   "cell_type": "code",
   "execution_count": null,
   "metadata": {
    "scrolled": true
   },
   "outputs": [],
   "source": [
    "#H2a: Count of numbers\n",
    "test['headline'].str.count('[0-9]+(,[0-9]+)*')"
   ]
  },
  {
   "cell_type": "code",
   "execution_count": null,
   "metadata": {},
   "outputs": [],
   "source": [
    "#H2b: Count of numbers starting headlines\n",
    "test['headline'].str.split(' ').map(lambda x: x[0]).str.count('[0-9]+')"
   ]
  },
  {
   "cell_type": "code",
   "execution_count": null,
   "metadata": {
    "scrolled": true
   },
   "outputs": [],
   "source": [
    "#H3a: Count of interrogatives (WP, WRB) https://www.ling.upenn.edu/courses/Fall_2003/ling001/penn_treebank_pos.html\n",
    "test['headline'].map(lambda x: nlp(x)).map(lambda x: [i.tag_ for i in x]).map(lambda x: x.count('WP') + x.count('WRB'))"
   ]
  },
  {
   "cell_type": "code",
   "execution_count": null,
   "metadata": {},
   "outputs": [],
   "source": [
    "#H3b: Count of interrogatives starting headlines\n",
    "test['headline'].map(lambda x: nlp(x)).map(lambda x: [i.tag_ for i in x][0]).str.count('WP|WRB')"
   ]
  },
  {
   "cell_type": "code",
   "execution_count": null,
   "metadata": {
    "scrolled": true
   },
   "outputs": [],
   "source": [
    "#H4: Count of effective social media phrases https://buzzsumo.com/blog/most-shared-headlines-study/#gs.E5zXvW8\n",
    "test = dfdd.head(n=1000)\n",
    "\n",
    "phrases = ['will make you', \n",
    "           'this is why', \n",
    "           'can we guess', \n",
    "           'only [0-9]+ in',\n",
    "           'the reason is',\n",
    "           'are freaking out',\n",
    "           '[0-9]+ stunning photos',\n",
    "           'tears of joy',\n",
    "           'is what happens',\n",
    "           'make you cry',\n",
    "           'give you goosebumps',\n",
    "           'talking about it',\n",
    "           'is too cute',\n",
    "           'shocked to see',\n",
    "           'melt your heart',\n",
    "           '[0-9]+ things only',\n",
    "           'can\\'t stop laughing',\n",
    "           'top [0-9]+ songs',\n",
    "           'twitter reacts to',\n",
    "           'what happened next']\n",
    "pattern = '|'.join(phrases)\n",
    "\n",
    "test['headline'].str.contains(pattern, case = False)"
   ]
  },
  {
   "cell_type": "code",
   "execution_count": null,
   "metadata": {},
   "outputs": [],
   "source": [
    "#H6: Average word length\n",
    "test['headline'].str.split(' ').map(lambda x: sum([len(i) for i in x])/len(x))"
   ]
  },
  {
   "cell_type": "code",
   "execution_count": null,
   "metadata": {},
   "outputs": [],
   "source": [
    "#H7a: Count of personal/possessive nouns (PRP, PRP$) https://www.ling.upenn.edu/courses/Fall_2003/ling001/penn_treebank_pos.html\n",
    "test['headline'].map(lambda x: nlp(x)).map(lambda x: [i.tag_ for i in x]).map(lambda x: x.count('PRP') + x.count('PRP$'))"
   ]
  },
  {
   "cell_type": "code",
   "execution_count": null,
   "metadata": {},
   "outputs": [],
   "source": [
    "#H7b: Count of personal/possessive nouns starting headlines\n",
    "test['headline'].map(lambda x: nlp(x)).map(lambda x: [i.tag_ for i in x][0]).str.count('PRP|PRP$')"
   ]
  },
  {
   "cell_type": "code",
   "execution_count": null,
   "metadata": {},
   "outputs": [],
   "source": [
    "#Word count\n",
    "test['headline'].map(lambda x: len(x.split(' ')))"
   ]
  },
  {
   "cell_type": "code",
   "execution_count": null,
   "metadata": {},
   "outputs": [],
   "source": [
    "#Character count\n",
    "test['headline'].map(lambda x: len(x))"
   ]
  },
  {
   "cell_type": "markdown",
   "metadata": {},
   "source": [
    "## Follow up"
   ]
  },
  {
   "cell_type": "code",
   "execution_count": null,
   "metadata": {
    "scrolled": true
   },
   "outputs": [],
   "source": [
    "#H8: Count of uncommon words\n",
    "'''List of popular words taken from https://github.com/dolph/dictionary/blob/master/popular.txt\n",
    "Disregards cardinal numbers (CD), foreign words (FW), possessive endings (POS), and symbols (SYM/$)'''\n",
    "#This approach doesn't work very well. Entity analysis?\n",
    "words = open('popular.txt').read().splitlines()\n",
    "test['headline'].map(lambda x: nlp(x)) \\\n",
    "    .map(lambda x: [i for i in x if i.tag_ not in ['CD', 'FW', 'POS', 'SYM', '$', '``', ',', ':', 'HYPH', '.']]) \\\n",
    "    .map(lambda x: sum([1 if i.text in words else 0 for i in x]))"
   ]
  },
  {
   "cell_type": "code",
   "execution_count": null,
   "metadata": {},
   "outputs": [],
   "source": [
    "#H9: Count of proper nouns (NNP and NNPS) https://www.ling.upenn.edu/courses/Fall_2003/ling001/penn_treebank_pos.html\n",
    "#Entity analysis?\n",
    "test['headline'].map(lambda x: nlp(x)).map(lambda x: [i.tag_ for i in x]).map(lambda x: x.count('NNP') + x.count('NNPS'))"
   ]
  },
  {
   "cell_type": "code",
   "execution_count": null,
   "metadata": {},
   "outputs": [],
   "source": [
    "#H10: Count of active verbs\n"
   ]
  },
  {
   "cell_type": "code",
   "execution_count": null,
   "metadata": {},
   "outputs": [],
   "source": [
    "#H5: Emotional intensity\n"
   ]
  },
  {
   "cell_type": "markdown",
   "metadata": {},
   "source": [
    "#### Removing duplicated IDs"
   ]
  },
  {
   "cell_type": "code",
   "execution_count": null,
   "metadata": {},
   "outputs": [],
   "source": [
    "df = odo('mysql://{}:{}@{}:3306/{}::results'.format(user, password, host, db), pd.DataFrame)"
   ]
  },
  {
   "cell_type": "code",
   "execution_count": null,
   "metadata": {},
   "outputs": [],
   "source": [
    "dfnlp = odo('mysql://{}:{}@{}:3306/{}::nlp'.format(user, password, host, db), pd.DataFrame)"
   ]
  },
  {
   "cell_type": "code",
   "execution_count": null,
   "metadata": {},
   "outputs": [],
   "source": [
    "len(df.drop_duplicates('_id').reset_index())"
   ]
  },
  {
   "cell_type": "code",
   "execution_count": null,
   "metadata": {
    "scrolled": true
   },
   "outputs": [],
   "source": [
    "len(dfnlp.drop_duplicates('_id').reset_index())"
   ]
  },
  {
   "cell_type": "code",
   "execution_count": null,
   "metadata": {},
   "outputs": [],
   "source": [
    "dfdd = df.drop_duplicates('_id').reset_index()\n",
    "dfdd.drop('level_0', axis=1, inplace=True)\n",
    "odo(dfdd, 'mysql://{}:{}@{}:3306/{}::results-deduped'.format(user, password, host, db))"
   ]
  },
  {
   "cell_type": "code",
   "execution_count": null,
   "metadata": {},
   "outputs": [],
   "source": [
    "dfnlpdd = dfnlp.drop_duplicates('_id').reset_index()\n",
    "dfnlpdd.drop('index', axis=1, inplace=True)\n",
    "odo(dfnlpdd, 'mysql://{}:{}@{}:3306/{}::nlp-deduped'.format(user, password, host, db))"
   ]
  },
  {
   "cell_type": "code",
   "execution_count": null,
   "metadata": {},
   "outputs": [],
   "source": []
  }
 ],
 "metadata": {
  "anaconda-cloud": {},
  "kernelspec": {
   "display_name": "Python [conda env:abquant]",
   "language": "python",
   "name": "conda-env-abquant-py"
  },
  "language_info": {
   "codemirror_mode": {
    "name": "ipython",
    "version": 3
   },
   "file_extension": ".py",
   "mimetype": "text/x-python",
   "name": "python",
   "nbconvert_exporter": "python",
   "pygments_lexer": "ipython3",
   "version": "3.7.0"
  }
 },
 "nbformat": 4,
 "nbformat_minor": 2
}
